{
 "cells": [
  {
   "cell_type": "markdown",
   "metadata": {},
   "source": [
    "# What is the % odorant vapor in the air stream, as a function of odorant properties, jar dimensions, and air flow rate?"
   ]
  },
  {
   "cell_type": "markdown",
   "metadata": {},
   "source": [
    "A cynlindrical jar with cross-sectional area $A$ and height $h$ contains a volume $V_{sol}$ of odorant solution (diluted in a solvent with zero vapor pressure), and the remaining volume, above the solution, is called $V_{head}$.  "
   ]
  },
  {
   "cell_type": "markdown",
   "metadata": {},
   "source": [
    "The flow rate of air into the jar, in mol/s, is $r_{air,in}$.  The gas flow out of the jar consists of the air component $r_{air, out}$ and the odorant component $r_{odor, out}$, also in mol/s.  "
   ]
  },
  {
   "cell_type": "markdown",
   "metadata": {},
   "source": [
    "The interface between the solution and the jar headspace has odorant molecules leaving with rate $r_{evap}$ and molecules condensing at rate $r_{condense}$, also in mol/s.  "
   ]
  },
  {
   "cell_type": "markdown",
   "metadata": {},
   "source": [
    "Therefore, the amount of odorant $n_o$ (in moles) in the jar headspace evolves according to:"
   ]
  },
  {
   "cell_type": "markdown",
   "metadata": {},
   "source": [
    "\\begin{equation}\n",
    "\\tag{1}\\frac{dn_{odor}}{dt} = r_{evap} - r_{condense} - r_{odor, out}\n",
    "\\end{equation}"
   ]
  },
  {
   "cell_type": "markdown",
   "metadata": {},
   "source": [
    "And the amount of air $n_{air}$ in the jar headspace evolves according to:"
   ]
  },
  {
   "cell_type": "markdown",
   "metadata": {},
   "source": [
    "\\begin{equation}\n",
    "\\tag{2}\\frac{dn_{air}}{dt} = r_{air,in} - r_{air, out}\n",
    "\\end{equation}"
   ]
  },
  {
   "cell_type": "markdown",
   "metadata": {},
   "source": [
    "Assuming that mixing with odorant vapor in the jar is instantaneous. Then the ratio of odorant efflux out of the jar to air efflux out of the jar is equal to the ratio of odor to air in the headspace of the jar at that moment."
   ]
  },
  {
   "cell_type": "markdown",
   "metadata": {},
   "source": [
    "\\begin{equation}\n",
    "\\tag{3}\\frac{n_{odor}}{n_{air}} = \\frac{r_{odor,out}}{r_{air, out}}\n",
    "\\end{equation}"
   ]
  },
  {
   "cell_type": "markdown",
   "metadata": {},
   "source": [
    "If evaporation is slow compared to the flow rate, we can assume that:"
   ]
  },
  {
   "cell_type": "markdown",
   "metadata": {},
   "source": [
    "\\begin{equation}\n",
    "\\tag{4}r_{air,in} = r_{air,out} + r_{odor, out}\n",
    "\\end{equation}"
   ]
  },
  {
   "cell_type": "markdown",
   "metadata": {},
   "source": [
    "Combining equations 3 and 4 gives:"
   ]
  },
  {
   "cell_type": "markdown",
   "metadata": {},
   "source": [
    "$$r_{odor,out} = r_{air,out}\\frac{n_{odor}}{n_{air}} = (r_{air,in} - r_{odor, out})\\frac{n_{odor}}{n_{air}}$$"
   ]
  },
  {
   "cell_type": "markdown",
   "metadata": {},
   "source": [
    "$$r_{odor,out}(1+\\frac{n_{odor}}{n_{air}}) = r_{air,in}\\frac{n_{odor}}{n_{air}}$$"
   ]
  },
  {
   "cell_type": "markdown",
   "metadata": {},
   "source": [
    "\\begin{equation}\n",
    "\\tag{5}r_{odor,out} = \\frac{r_{air,in}n_{odor}}{n_{air}+n_{odor}}\n",
    "\\end{equation}"
   ]
  },
  {
   "cell_type": "markdown",
   "metadata": {},
   "source": [
    "And lastly, if both odorant and air are ideal gases, and air flow does not substantially change pressure in the jar, then the combined air and gas molecules fill the headspace at room temperature and ambient pressure according to:"
   ]
  },
  {
   "cell_type": "markdown",
   "metadata": {},
   "source": [
    "\\begin{equation}\n",
    "\\tag{6}n_{odor} + n_{air} = \\frac{P_{room}V_{head}}{RT_{room}} \\sim \\frac{V_{head}}{22.4 Liters}\n",
    "\\end{equation}"
   ]
  },
  {
   "cell_type": "markdown",
   "metadata": {},
   "source": [
    "Substituting (6) into (5) gives:"
   ]
  },
  {
   "cell_type": "markdown",
   "metadata": {},
   "source": [
    "\\begin{equation}\n",
    "\\tag{7}r_{odor, out} = \\frac{r_{air,in}n_{odor}RT_{room}}{P_{room}V_{head}}\n",
    "\\end{equation}"
   ]
  },
  {
   "cell_type": "markdown",
   "metadata": {},
   "source": [
    "The evaporation rate is assumed to be indepedent of time, depending (through a function $F_{evap}$ obtained empirically and described later) only upon the partial pressure $P^*_o$ of the liquid odorant, and the surface area $A$ of the liquid-vapor interface, where the partial pressure is equal to the mole fraction $f_o$ of the odorant in the liquid times its intrinsic vapor pressure $P_o$ (at this temperature), according to Raoult's law. "
   ]
  },
  {
   "cell_type": "markdown",
   "metadata": {},
   "source": [
    "\\begin{equation}\n",
    "\\tag{8}r_{evap} = F_{evap}(P^*_{odor})A\n",
    "\\end{equation}\n",
    "\\begin{equation}\n",
    "\\tag{9}P^*_{odor} = P_{odor}f_{odor}\n",
    "\\end{equation}"
   ]
  },
  {
   "cell_type": "markdown",
   "metadata": {},
   "source": [
    "Meanwhile, the condensation rate depends upon the molar concentration C_o of odorant vapor in the headspace and the headspace volume according to a constant $k_{condense}$:"
   ]
  },
  {
   "cell_type": "markdown",
   "metadata": {},
   "source": [
    "\\begin{equation}\n",
    "\\tag{10}r_{condense} = k_{condense}AC_{odor}\n",
    "\\end{equation}\n",
    "\\begin{equation}\n",
    "\\tag{11}C_{odor} = n_{odor}/V_{head}\n",
    "\\end{equation}"
   ]
  },
  {
   "cell_type": "markdown",
   "metadata": {},
   "source": [
    "Substituting (7-11) back into equation (1) gives a first order, linear differential equation in $n_{odor}$:"
   ]
  },
  {
   "cell_type": "markdown",
   "metadata": {},
   "source": [
    "$$\\frac{dn_{odor}}{dt} = F_{evap}(P_{odor},f_{odor})A - \\frac{k_{condense}An_{odor}}{V_{head}} - \\frac{r_{air,in}n_{odor}RT_{room}}{P_{room}V_{head}}$$"
   ]
  },
  {
   "cell_type": "markdown",
   "metadata": {},
   "source": [
    "\\begin{equation}\n",
    "\\tag{12}\\frac{dn_{odor}}{dt} = F_{evap}(P_{odor},f_{odor})A - n_{odor}(\\frac{1}{V_{head}}(k_{condense}A + \\frac{r_{air,in}RT_{room}}{P_{room}}))\n",
    "\\end{equation}"
   ]
  },
  {
   "cell_type": "markdown",
   "metadata": {},
   "source": [
    "We can define:\n",
    "\\begin{equation}\n",
    "\\tag{13}u = \\frac{1}{V_{head}}(k_{condense}A + \\frac{r_{air,in}RT_{room}}{P_{room}})\n",
    "\\end{equation}\n",
    "and if the headspace volume changes very slowly, we can assume that this is independent of time."
   ]
  },
  {
   "cell_type": "markdown",
   "metadata": {},
   "source": [
    "The integrating factor is:\n",
    "\\begin{equation}\n",
    "e^{\\int{u}dt} = e^{ut}\\tag{14}\n",
    "\\end{equation}"
   ]
  },
  {
   "cell_type": "markdown",
   "metadata": {},
   "source": [
    "The canonical solution to (12) is thus:"
   ]
  },
  {
   "cell_type": "markdown",
   "metadata": {},
   "source": [
    "\\begin{equation}\n",
    "\\tag{15}n_{odor}(t) = e^{-ut}(\\int{e^{ut}F_{evap}(P_{odor},f_{odor})Adt} + constant)\n",
    "\\end{equation}"
   ]
  },
  {
   "cell_type": "markdown",
   "metadata": {},
   "source": [
    "Integrating gives:"
   ]
  },
  {
   "cell_type": "markdown",
   "metadata": {},
   "source": [
    "\\begin{equation}\n",
    "n_{odor}(t) = \\frac{F_{evap}(P_{odor},f_{odor})A}{u} + constant*e^{-ut}\\tag{16}\n",
    "\\end{equation}"
   ]
  },
  {
   "cell_type": "markdown",
   "metadata": {},
   "source": [
    "At steady state flow ($t = \\infty$), the number of odorant molecules in the headspace is proportional to the evaporation function $F_{evap}$, which depends on the vapor pressure of the odorant, its mole fraction in solution, and the surface area of the liquid-vapor interface). The number of odorant molecules in the headspace is inversely proportional to $u$, which includes a weighted sum of the condensation rate constant and the air inflow rate."
   ]
  },
  {
   "cell_type": "markdown",
   "metadata": {},
   "source": [
    "\\begin{equation}\n",
    "\\tag{17}\n",
    "n_{odor}(t=\\infty) = \\frac{F_{evap}(P_{odor},f_{odor})A}{u}\n",
    "\\end{equation}"
   ]
  },
  {
   "cell_type": "markdown",
   "metadata": {},
   "source": [
    "At the starting time ($t=0$), we will assume that the jar is already in equilibrium, and the number of odorant molecules in the headspace is determined by the odorant's partial pressure:"
   ]
  },
  {
   "cell_type": "markdown",
   "metadata": {},
   "source": [
    "\\begin{equation}\n",
    "\\tag{18}\n",
    "n_{odor}(t=0) = \\frac{P_{odor}f_{odor}V_{head}}{RT_{room}} = \\frac{F_{evap}(P_{odor},f_{odor})A}{u} + constant\n",
    "\\end{equation}"
   ]
  },
  {
   "cell_type": "markdown",
   "metadata": {},
   "source": [
    "So the constant is equal to:"
   ]
  },
  {
   "cell_type": "markdown",
   "metadata": {},
   "source": [
    "\\begin{equation}\n",
    "\\tag{19}\n",
    "constant = \\frac{P_{odor}f_{odor}V_{head}}{RT_{room}} - \\frac{F_{evap}(P_{odor},f_{odor})A}{u}\n",
    "\\end{equation}"
   ]
  },
  {
   "cell_type": "markdown",
   "metadata": {},
   "source": [
    "Substituting back into (16) gives:"
   ]
  },
  {
   "cell_type": "markdown",
   "metadata": {},
   "source": [
    "\\begin{equation}\n",
    "n_{odor}(t) = \\frac{F_{evap}(P_{odor},f_{odor})A}{u} + (\\frac{P_{odor}f_{odor}V_{head}}{RT_{room}} - \\frac{F_{evap}(P_{odor},f_{odor})A}{u})*e^{-ut}\\tag{20}\n",
    "\\end{equation}"
   ]
  },
  {
   "cell_type": "markdown",
   "metadata": {},
   "source": [
    "And substituting (13) into (20) gives:"
   ]
  },
  {
   "cell_type": "markdown",
   "metadata": {},
   "source": [
    "\\begin{equation}\n",
    "n_{odor}(t) = \\frac{V_{head}F_{evap}(P_{odor},f_{odor})A}{(k_{condense}A + \\frac{r_{air,in}RT_{room}}{P_{room}})} + (\\frac{P_{odor}f_{odor}V_{head}}{RT_{room}} - \\frac{V_{head}F_{evap}(P_{odor},f_{odor})A}{(k_{condense}A + \\frac{r_{air,in}RT_{room}}{P_{room}})})*e^{-(\\frac{1}{V_{head}}(k_{condense}A + \\frac{r_{air,in}RT_{room}}{P_{room}}))t}\\tag{21}\n",
    "\\end{equation}"
   ]
  },
  {
   "cell_type": "markdown",
   "metadata": {},
   "source": [
    "Subsituting (21) into (5) gives:"
   ]
  },
  {
   "cell_type": "markdown",
   "metadata": {},
   "source": [
    "\\begin{equation}\n",
    "\\frac{r_{odor,out}}{r_{air,in}} = \\frac{\\frac{V_{head}F_{evap}(P_{odor},f_{odor})A}{(k_{condense}A + \\frac{r_{air,in}RT_{room}}{P_{room}})} + (\\frac{P_{odor}f_{odor}V_{head}}{RT_{room}} - \\frac{V_{head}F_{evap}(P_{odor},f_{odor})A}{(k_{condense}A + \\frac{r_{air,in}RT_{room}}{P_{room}})})*e^{-(\\frac{1}{V_{head}}(k_{condense}A + \\frac{r_{air,in}RT_{room}}{P_{room}}))t}}{\\frac{P_{room}V_{head}}{RT_{room}}}\n",
    "\\end{equation}\n",
    "\n",
    "\\begin{equation}\n",
    "\\tag{22}\n",
    "\\frac{r_{odor,out}}{r_{air,in}} = \\frac{F_{evap}(P_{odor},f_{odor})}{(\\frac{k_{condense}P_{room}}{RT_{room}} + \\frac{r_{air,in}}{A})} + (\\frac{P_{odor}f_{odor}}{P_{room}} - \\frac{F_{evap}(P_{odor},f_{odor})}{(\\frac{k_{condense}P_{room}}{RT_{room}} + \\frac{r_{air,in}}{A})})*e^{-(\\frac{1}{V_{head}}(k_{condense}A + \\frac{r_{air,in}RT_{room}}{P_{room}}))t}\n",
    "\\end{equation}"
   ]
  },
  {
   "cell_type": "markdown",
   "metadata": {},
   "source": [
    "The evaporation rate $F_{evap}$ depends on $P_{odor}$, $f_{odor}$, and $A$. According to *Mackay, D., & van Wesenbeeck, I. (2014). Correlation of Chemical Evaporation Rate with Vapor Pressure. Environmental Science & Technology, 48(17), 10259–10263.\n",
    "doi:10.1021/es5029074* the pure odorant evaporation rate per unit area has the empirical form:\n",
    "\\begin{equation}\n",
    "\\tag{23}\n",
    "F^*_{evap}(P_{odor}) = e^{1.0243 ln(\\frac{P_{odor}}{P_{unity}} - 15.08)} * F_{unity}\n",
    "\\end{equation}\n",
    "where $P_{unity} = 1 Pa$ and $F_{unity}= 1\\frac{mol}{m^2s}$"
   ]
  },
  {
   "cell_type": "markdown",
   "metadata": {},
   "source": [
    "Assuming linear dependence on mole fraction in solution:\n",
    "\\begin{equation}\n",
    "\\tag{25}\n",
    "F_{evap}(P_{odor},f_{odor}) = F^*_{evap}(P_{odor})f_{odor} = f_{odor}e^{1.0243 ln(\\frac{P_{odor}}{P_{unity}} - 15.08)} * F_{unity}\n",
    "\\end{equation}"
   ]
  },
  {
   "cell_type": "markdown",
   "metadata": {},
   "source": [
    "At equilibrium, the condensation rate is equal to the evaporation rate, resulting in a $n_{odor}(t=0)$ given by the partial pressure $P^*_{odor} = P_{odor}f_{odor}$.  Setting (8) and (10) equal and subsituting (18) gives:\n",
    "\\begin{equation}\n",
    "F_{evap}(P_{odor},f_{odor})A = k_{condense}A\\frac{n_{odor}(t=0)}{V_{head}}\n",
    "\\end{equation}"
   ]
  },
  {
   "cell_type": "markdown",
   "metadata": {},
   "source": [
    "\\begin{equation}\n",
    "\\tag{26}\n",
    "F^*_{evap}(P_{odor})f_{odor}A = k_{condense}A\\frac{P_{odor}f_{odor}V_{head}}{V_{head}RT_{room}}\n",
    "\\end{equation}"
   ]
  },
  {
   "cell_type": "markdown",
   "metadata": {},
   "source": [
    "\\begin{equation}\n",
    "\\tag{27}\n",
    "k_{condense} = \\frac{RT_{room}F^*_{evap}(P_{odor})}{P_{odor}}\n",
    "\\end{equation}"
   ]
  },
  {
   "cell_type": "markdown",
   "metadata": {},
   "source": [
    "Substituting (25) and (26) into (22) gives:\n",
    "\\begin{equation}\n",
    "\\frac{r_{odor,out}}{r_{air,in}}(t) = \\frac{F^*_{evap}(P_{odor})f_{odor}}{(\\frac{\\frac{RT_{room}F^*_{evap}(P_{odor})}{P_{odor}}P_{room}}{RT_{room}} + \\frac{r_{air,in}}{A})} + (\\frac{P_{odor}f_{odor}}{P_{room}} - \\frac{F^*_{evap}(P_{odor})f_{odor}}{(\\frac{\\frac{RT_{room}F^*_{evap}(P_{odor})}{P_{odor}}P_{room}}{RT_{room}} + \\frac{r_{air,in}}{A})})e^{-(\\frac{1}{V_{head}}(\\frac{RT_{room}F^*_{evap}(P_{odor})}{P_{odor}}A + \\frac{r_{air,in}RT_{room}}{P_{room}}))t}\n",
    "\\end{equation}"
   ]
  },
  {
   "cell_type": "markdown",
   "metadata": {},
   "source": [
    "\\begin{equation}\n",
    "\\frac{r_{odor,out}}{r_{air,in}}(t) = f_{odor}(\\frac{F^*_{evap}(P_{odor})}{(\\frac{F^*_{evap}(P_{odor})}{P_{odor}}P_{room} + \\frac{r_{air,in}}{A})} + (\\frac{P_{odor}}{P_{room}} - \\frac{F^*_{evap}(P_{odor})}{(\\frac{F^*_{evap}(P_{odor})}{P_{odor}}P_{room} + \\frac{r_{air,in}}{A})})e^{-(\\frac{RT_{room}}{V_{head}}(\\frac{F^*_{evap}(P_{odor})}{P_{odor}}A + \\frac{r_{air,in}}{P_{room}}))t})\n",
    "\\end{equation}"
   ]
  },
  {
   "cell_type": "markdown",
   "metadata": {},
   "source": [
    "\\begin{equation}\n",
    "\\tag{28}\n",
    "\\frac{r_{odor,out}}{r_{air,in}}(t) = f_{odor}(\\frac{1}{(\\frac{P_{room}}{P_{odor}} + \\frac{r_{air,in}}{AF^*_{evap}(P_{odor})})} + (\\frac{P_{odor}}{P_{room}} - \\frac{1}{(\\frac{P_{room}}{P_{odor}} + \\frac{r_{air,in}}{AF^*_{evap}(P_{odor})})})e^{-(\\frac{RT_{room}}{V_{head}}(\\frac{F^*_{evap}(P_{odor})}{P_{odor}}A + \\frac{r_{air,in}}{P_{room}}))t})\n",
    "\\end{equation}"
   ]
  },
  {
   "cell_type": "markdown",
   "metadata": {},
   "source": [
    "This equation, describing the molar fraction of odorant in the air stream, has the functional form:<br><br>\n",
    "\\begin{equation}\n",
    "\\tag{29}\n",
    "\\frac{r_{odor,out}}{r_{air,in}}(t) = f_{odor}(a + (b-a)e^{-ct})\n",
    "\\end{equation}\n",
    "<br>where $f_{odor}$ is the mole fraction of the odorant in solution, $f_{odor}a$ describes the steady-state fraction in the exiting vapor at $t=0$, $f_{odor}b$ describes the steady-state fraction in the exiting vapor at $t=\\infty$, and $\\frac{1}{c}$ is the time constant.  "
   ]
  },
  {
   "cell_type": "markdown",
   "metadata": {},
   "source": [
    "In the vapor pressure regime of most odorants (0.1 - 10 mm Hg), the ratio $\\frac{F^*_{evap}(P_{odor})}{P_{odor}}$ does not differ more than $\\sim5\\%$ from $k_{evap} \\sim3.2*10^{-7} \\frac{mol}{m^2sPa}$, i.e. $F^*_{evap}$ is linear in $P_{odor}$. This means that the time constant $\\frac{1}{c}$ is largely independent of the odorant in question."
   ]
  },
  {
   "cell_type": "markdown",
   "metadata": {},
   "source": [
    "Plugging in numbers:"
   ]
  },
  {
   "cell_type": "code",
   "execution_count": 1,
   "metadata": {},
   "outputs": [],
   "source": [
    "%matplotlib inline\n",
    "import numpy as np\n",
    "import matplotlib.pyplot as plt\n",
    "import seaborn as sns\n",
    "import quantities as pq\n",
    "from quantities.constants.statisticalmechanics import R\n",
    "from IPython.display import Markdown\n",
    "\n",
    "sns.set(font_scale=1.5)"
   ]
  },
  {
   "cell_type": "code",
   "execution_count": 2,
   "metadata": {},
   "outputs": [
    {
     "data": {
      "text/markdown": [
       "a = 0.0017<br>b= 0.0138<br>c = 0.168($s^{-1}$)"
      ],
      "text/plain": [
       "<IPython.core.display.Markdown object>"
      ]
     },
     "execution_count": 2,
     "metadata": {},
     "output_type": "execute_result"
    }
   ],
   "source": [
    "jar_diameter = 6 * pq.cm\n",
    "jar_height = 5 * pq.cm\n",
    "height_filled = 1*pq.cm\n",
    "A = np.pi * (jar_diameter / 2)**2\n",
    "V_head = A * (jar_height - height_filled)\n",
    "\n",
    "f_odor = 0.001 # A 0.1% solution\n",
    "P_room = 1*pq.atm # 1 atmosphere\n",
    "P_odor = 10.5 * pq.mmHg # Hexanal vapor pressure\n",
    "T_room = (22 + 273.15)*pq.Kelvin\n",
    "r_air_in = (1.0*pq.L/pq.min)*P_room/(R*T_room) # 1 L/min convered to mol/s\n",
    "\n",
    "def F_star_evap(vp):\n",
    "    # Units of Pascals\n",
    "    vp = vp.rescale(pq.Pa)\n",
    "    # Strip units for logarithm\n",
    "    vp /= vp.units\n",
    "    # Evaporation rate\n",
    "    er = np.exp(1.0243*np.log(vp) - 15.08)\n",
    "    if isinstance(er, np.ndarray):\n",
    "        er[vp==0] = 0\n",
    "    # Attach units\n",
    "    er *= pq.mol / (pq.m**2 * pq.s)\n",
    "    return er\n",
    "\n",
    "\n",
    "t = np.linspace(0,5,1000) * pq.s # 1000 ms\n",
    "# Use the form:\n",
    "# ratio = f_odor*(a + (b - a)exp(-ct))\n",
    "a = (1/(P_room/P_odor + r_air_in/(A*F_star_evap(P_odor)))).rescale(pq.dimensionless)\n",
    "b = (P_odor/P_room).rescale(pq.dimensionless)\n",
    "c = ((R*T_room/V_head)*(A*F_star_evap(P_odor)/P_odor + r_air_in/P_room)).rescale(1/pq.s)\n",
    "ratio = f_odor*(a + (b - a)*np.exp(-c*t))\n",
    "\n",
    "Markdown(r\"a = %.3g<br>b= %.3g<br>c = %.3g($s^{-1}$)\" % (a, b, c))"
   ]
  },
  {
   "cell_type": "markdown",
   "metadata": {},
   "source": [
    "Here is the decay curve for the fraction of odorant (by mole) in the vapor leaving the jar over time:"
   ]
  },
  {
   "cell_type": "code",
   "execution_count": 3,
   "metadata": {},
   "outputs": [
    {
     "data": {
      "image/png": "[encoded data removed]",
      "text/plain": [
       "<Figure size 432x288 with 1 Axes>"
      ]
     },
     "metadata": {
      "needs_background": "light"
     },
     "output_type": "display_data"
    }
   ],
   "source": [
    "plt.plot(t, ratio)\n",
    "plt.xlabel('Time (s)')\n",
    "plt.ylabel('Volume fraction odorant\\nin air stream')\n",
    "plt.ylim(0, ratio.max()*1.1);"
   ]
  },
  {
   "cell_type": "code",
   "execution_count": 4,
   "metadata": {},
   "outputs": [
    {
     "data": {
      "image/png": "[encoded data removed]",
      "text/plain": [
       "<Figure size 432x288 with 1 Axes>"
      ]
     },
     "metadata": {
      "needs_background": "light"
     },
     "output_type": "display_data"
    }
   ],
   "source": [
    "vps = (np.logspace(-1,1,100) * pq.mmHg).rescale(pq.Pa)\n",
    "ers = np.zeros(vps.shape)\n",
    "for i, vp in enumerate(vps):\n",
    "    ers[i] = F_star_evap(vp)\n",
    "plt.scatter(vps, ers/vps)\n",
    "plt.xscale('log')\n",
    "plt.ylim(3e-7,3.5e-7)\n",
    "plt.xlabel(r'Vapor pressure ($Pa$)')\n",
    "plt.ylabel(r'Evaporation rate ($\\frac{mol}{m^2s}$)');"
   ]
  },
  {
   "cell_type": "code",
   "execution_count": 5,
   "metadata": {},
   "outputs": [
    {
     "data": {
      "image/png": "[encoded data removed]",
      "text/plain": [
       "<Figure size 432x288 with 1 Axes>"
      ]
     },
     "metadata": {
      "needs_background": "light"
     },
     "output_type": "display_data"
    }
   ],
   "source": [
    "r_air_ins_volume = np.logspace(-4,2,100)*pq.L/pq.min\n",
    "r_air_ins_mole = (r_air_ins_volume*P_room/(R*T_room)).rescale(pq.mol/pq.s)\n",
    "k_evap = 3.2e-7*pq.mol/(pq.m**2*pq.s*pq.Pa)\n",
    "cs = ((R*T_room/V_head)*(A*k_evap + r_air_ins_mole/P_room)).rescale(1/pq.s)\n",
    "plt.scatter(r_air_ins_volume, 1/cs)\n",
    "plt.xlabel(r'Air flow rate ($\\frac{L}{min}$)')\n",
    "plt.ylabel(r'Odorant depletion time constant ($s$)')\n",
    "plt.xscale('log')\n",
    "plt.yscale('log')\n",
    "plt.xlim(1e-4,1e2)\n",
    "plt.ylim(1e-2,1e2);"
   ]
  },
  {
   "cell_type": "markdown",
   "metadata": {},
   "source": [
    "Using the linear form of $F^*_{evap}$, the dependence on $P_{odor}$ of the ratio between the initial and steady-state odorant enrichments disappears:"
   ]
  },
  {
   "cell_type": "markdown",
   "metadata": {},
   "source": [
    "\\begin{equation}\n",
    "\\tag{30}\n",
    "\\frac{b}{a} = \n",
    "\\frac{\\frac{P_{odor}}{P_{room}}}{\\frac{1}{(\\frac{P_{room}}{P_{odor}} + \\frac{r_{air,in}}{AF^*_{evap}(P_{odor})})}} = \n",
    "\\frac{\\frac{P_{odor}}{P_{room}}}{\\frac{1}{(\\frac{P_{room}}{P_{odor}} + \\frac{r_{air,in}}{Ak_{evap}P_{odor}})}} = \n",
    "\\frac{P_{room}+\\frac{r_{air,in}}{Ak_{evap}}}{P_{room}} = \n",
    "1+\\frac{r_{air,in}}{Ak_{evap}P_{room}}\n",
    "\\end{equation}\n",
    "The only way to keep this fraction close to 1 is to have a low air-flow rate $r_{air,in}$ or a large solution-vapor interface surface area $A$, i.e. a wide jar."
   ]
  },
  {
   "cell_type": "code",
   "execution_count": 6,
   "metadata": {},
   "outputs": [
    {
     "data": {
      "image/png": "[encoded data removed]",
      "text/plain": [
       "<Figure size 432x288 with 1 Axes>"
      ]
     },
     "metadata": {
      "needs_background": "light"
     },
     "output_type": "display_data"
    }
   ],
   "source": [
    "b_a_ratios = 1 + (r_air_ins_mole/(A*k_evap*P_room)).rescale(pq.dimensionless)\n",
    "plt.scatter(r_air_ins_volume, b_a_ratios)\n",
    "plt.xlabel(r'Air flow rate ($\\frac{L}{min}$)')\n",
    "plt.ylabel(r'Odorant enrichment ratio $\\frac{initial}{steadystate}$')\n",
    "plt.xscale('log')\n",
    "plt.yscale('log')\n",
    "plt.xlim(1e-4,1e2)\n",
    "plt.ylim(0.9,1e3);"
   ]
  },
  {
   "cell_type": "markdown",
   "metadata": {},
   "source": [
    "In the interval between stimuli, if air flow through the jar is turned off, the odorant concentration increases again towards its intitial concentration. Here we assume that the pressure change inside the sealed jar due to the odorant realizing its partial pressure is small.<br><br>\n",
    "\\begin{equation}\n",
    "\\tag{31}\n",
    "\\frac{dn_{odor}}{dt} = r_{evap} - r_{condense} = f_{odor}F*_{evap}(P_{odor})A - \\frac{RT_{room}F^*_{evap}(P_{odor})An_{odor}}{P_{odor}V_{head}}\n",
    "\\end{equation}"
   ]
  },
  {
   "cell_type": "markdown",
   "metadata": {},
   "source": [
    "We can define:\n",
    "\\begin{equation}\n",
    "\\tag{32}u^* = \\frac{RT_{room}F^*_{evap}(P_{odor})A}{P_{odor}V_{head}}\n",
    "\\end{equation}"
   ]
  },
  {
   "cell_type": "markdown",
   "metadata": {},
   "source": [
    "with a solution just like (21), except without the term for air influx:<br><br>\n",
    "\\begin{equation}\n",
    "\\tag{32}\n",
    "n_{odor}(t) = \\frac{V_{head}F_{evap}(P_{odor},f_{odor})A}{k_{condense}A} + (\\frac{P_{odor}f_{odor}V_{head}}{RT_{room}} - \\frac{V_{head}F_{evap}(P_{odor},f_{odor})A}{k_{condense}A})*e^{-(\\frac{1}{V_{head}}(k_{condense}A))t}\n",
    "\\end{equation}"
   ]
  },
  {
   "cell_type": "markdown",
   "metadata": {},
   "source": [
    "\\begin{equation}\n",
    "n_{odor}(t) = e^{-ut}(\\int{e^{ut}f_{odor}F^*_{evap}(P_{odor})Adt} + constant)\n",
    "\\end{equation}"
   ]
  },
  {
   "cell_type": "markdown",
   "metadata": {},
   "source": [
    "\\begin{equation}\n",
    "n_{odor}(t) = \\frac{f_{odor}F^*_{evap}(P_{odor})A}{u} + constant*e^{-ut}\n",
    "\\end{equation}\n",
    "<br>\n",
    "\\begin{equation}\n",
    "n_{odor}(t) = \\frac{f_{odor}F^*_{evap}(P_{odor})A}{\\frac{RT_{room}F^*_{evap}(P_{odor})A}{P_{odor}V_{head}}} + constant*e^{-ut}\n",
    "\\end{equation}\n",
    "<br>\n",
    "\\begin{equation}\n",
    "\\tag{33}n_{odor}(t) = \\frac{f_{odor}P_{odor}V_{head}}{RT_{room}} + constant*e^{-\\frac{RT_{room}F^*_{evap}(P_{odor})A}{P_{odor}V_{head}}t}\n",
    "\\end{equation}"
   ]
  },
  {
   "cell_type": "markdown",
   "metadata": {},
   "source": [
    "The value of the constant term depends on how depleted the odorant in the headspace is before the airflow is turned off.  Without less of generality we can simply define it as:\n",
    "\\begin{equation}\n",
    "\\tag{34}\n",
    "constant = n_{odor}(t=0) - \\frac{f_{odor}P_{odor}V_{head}}{RT_{room}}\n",
    "\\end{equation}"
   ]
  },
  {
   "cell_type": "markdown",
   "metadata": {},
   "source": [
    "giving us:\n",
    "\\begin{equation}\n",
    "\\tag{35}n_{odor}(t) = \\frac{f_{odor}P_{odor}V_{head}}{RT_{room}} + (n_{odor}(t=0) - \\frac{f_{odor}P_{odor}V_{head}}{RT_{room}})*e^{-\\frac{RT_{room}F^*_{evap}(P_{odor})A}{P_{odor}V_{head}}t}\n",
    "\\end{equation}"
   ]
  },
  {
   "cell_type": "markdown",
   "metadata": {},
   "source": [
    "Therefore, a scenario of a stimulus of duration $T_on$ followed by an interval of duration $T_off$ exhibits the following behavior: The quantity of odorant in the jar headspace is initially $\\frac{f_{odor}P_{odor}V_{head}}{RT_{room}}$, which follows trivially from Raoult's law and the ideal gas law.  Once the air flow is turned on, it declines by a factor of $\\frac{b}{a} = 1+\\frac{r_{air,in}}{Ak_{evap}P_{room}}$ with inverse time constant $c = \\frac{RT_{room}}{V_{head}}(\\frac{F^*_{evap}(P_{odor})}{P_{odor}}A + \\frac{r_{air,in}}{P_{room}})) \\sim \\frac{RT_{room}}{V_{head}}(k_{evap}A + \\frac{r_{air,in}}{P_{room}}))$. When the air is turned off, it returns to its initial value with inverse time constant $c = \\frac{RT_{room}F^*_{evap}(P_{odor})A}{P_{odor}V_{head}} \\sim \\frac{RT_{room}k_{evap}A}{V_{head}}$."
   ]
  },
  {
   "cell_type": "code",
   "execution_count": 7,
   "metadata": {},
   "outputs": [],
   "source": [
    "dt = 0.001\n",
    "T_on = 2\n",
    "T_off = 8\n",
    "n_cycles = 10\n",
    "t = np.arange(0,(T_on+T_off)*n_cycles,dt) * pq.s\n",
    "t_on = int(T_on / dt)\n",
    "t_off = int(T_off / dt)\n",
    "ratios = np.zeros(t.shape)\n",
    "# Use the form:\n",
    "# ratio = f_odor*(a + (b - a)exp(-ct))\n",
    "a = (1/(P_room/P_odor + r_air_in/(A*F_star_evap(P_odor)))).rescale(pq.dimensionless)\n",
    "b = (P_odor/P_room).rescale(pq.dimensionless)\n",
    "c_decay = ((R*T_room/V_head)*(A*F_star_evap(P_odor)/P_odor + r_air_in/P_room)).rescale(1/pq.s)\n",
    "c_recover = ((R*T_room/V_head)*(A*F_star_evap(P_odor)/P_odor)).rescale(1/pq.s)\n",
    "ratios[0:t_on] = f_odor*(a + (b - a)*np.exp(-c_decay*t[:t_on]))\n",
    "ratios[t_on:t_on+t_off] = f_odor*(b + (ratios[t_on-1]/f_odor - b)*np.exp(-c_recover*t[:t_off]))\n",
    "for cycle in range(1,n_cycles):\n",
    "    ratios[cycle*t_on+cycle*t_off:(cycle+1)*t_on+cycle*t_off] = f_odor*(a + (ratios[cycle*t_on+cycle*t_off-1]/f_odor - a)*np.exp(-c_decay*t[:t_on]))\n",
    "    ratios[(cycle+1)*t_on+cycle*t_off:(cycle+1)*t_on+(cycle+1)*t_off] = f_odor*(b + (ratios[(cycle+1)*t_on+cycle*t_off-1]/f_odor - b)*np.exp(-c_recover*t[:t_off]))\n"
   ]
  },
  {
   "cell_type": "markdown",
   "metadata": {},
   "source": [
    "Repeated stimuli (with on time T_on and off time T_off will have an odorant mole fraction in the vapor that changes as follows):"
   ]
  },
  {
   "cell_type": "code",
   "execution_count": 8,
   "metadata": {},
   "outputs": [
    {
     "data": {
      "image/png": "[encoded data removed]",
      "text/plain": [
       "<Figure size 432x288 with 1 Axes>"
      ]
     },
     "metadata": {
      "needs_background": "light"
     },
     "output_type": "display_data"
    }
   ],
   "source": [
    "plt.plot(t, ratios)\n",
    "plt.xlabel('Time ($s$)')\n",
    "plt.ylabel('Mole fraction of odorant\\nin headspace vapor');\n",
    "plt.ylim(0, ratios[0]*1.1);"
   ]
  },
  {
   "cell_type": "code",
   "execution_count": 9,
   "metadata": {},
   "outputs": [
    {
     "name": "stdout",
     "output_type": "stream",
     "text": [
      "Depletion time constant is 5.95 s\n",
      "Recovery time constant is 48.4 s\n"
     ]
    }
   ],
   "source": [
    "print(\"Depletion time constant is %.3g s\" % (1/c_decay))\n",
    "print(\"Recovery time constant is %.3g s\" % (1/c_recover))"
   ]
  }
 ],
 "metadata": {
  "kernelspec": {
   "display_name": "Python 3",
   "language": "python",
   "name": "python3"
  },
  "language_info": {
   "codemirror_mode": {
    "name": "ipython",
    "version": 3
   },
   "file_extension": ".py",
   "mimetype": "text/x-python",
   "name": "python",
   "nbconvert_exporter": "python",
   "pygments_lexer": "ipython3",
   "version": "3.8.5"
  }
 },
 "nbformat": 4,
 "nbformat_minor": 4
}
