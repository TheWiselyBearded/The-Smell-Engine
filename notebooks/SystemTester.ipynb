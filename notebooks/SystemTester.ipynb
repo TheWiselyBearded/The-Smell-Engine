{
 "cells": [
  {
   "cell_type": "code",
   "execution_count": null,
   "metadata": {},
   "outputs": [],
   "source": [
    "import time\n",
    "from collections import OrderedDict\n",
    "import numpy as np\n",
    "import nidaqmx\n",
    "import pandas as pd\n",
    "\n",
    "import quantities as pq\n",
    "from nidaqmx.stream_writers import (\n",
    "    DigitalSingleChannelWriter, DigitalMultiChannelWriter)\n",
    "from nidaqmx.utils import flatten_channel_string\n",
    "from nidaqmx.constants import (\n",
    "    LineGrouping, AcquisitionType, DigitalWidthUnits, Edge,\n",
    "    HandshakeStartCondition, Level, MIOAIConvertTimebaseSource,\n",
    "    OverflowBehavior, TaskMode, Polarity, RegenerationMode,\n",
    "    SampleInputDataWhen, SampleTimingType, UnderflowBehavior)\n",
    "from nidaqmx.error_codes import DAQmxErrors, DAQmxWarnings\n",
    "from nidaqmx.errors import (\n",
    "    check_for_error, is_string_buffer_too_small, DaqError, DaqResourceWarning)\n",
    "\n",
    "from scipy.optimize import fsolve, least_squares\n",
    "\n",
    "from olfactometer.PID_reader import PID_Tester\n",
    "from olfactometer.valve_driver import ValveDriver\n",
    "from olfactometer.equipment import Olfactometer\n",
    "from olfactometer.my_equipment import MyValve, MyJar, MyLowMFC, \\\n",
    "                                      MyMediumMFC, MyHighMFC\n",
    "from olfactometer.odorants import Solution, Compound, ChemicalOrder, \\\n",
    "                                  Vendor, Molecule\n",
    "# from graph import make_graph, draw_graph\n",
    "from pprint import pprint\n",
    "from olfactometer.smell_engine import SmellEngine\n",
    "from olfactometer.data_container import DataContainer\n",
    "from olfactometer.ui import UI\n",
    "from IPython.display import display\n",
    "\n",
    "np.set_printoptions(precision=6)"
   ]
  },
  {
   "cell_type": "code",
   "execution_count": null,
   "metadata": {},
   "outputs": [],
   "source": [
    "# Initialize # molecules\n",
    "#molecules = OrderedDict([(702, 'Ethanol')])\n",
    "molecules = OrderedDict([(7410, 'Acetophenone'), (7439, 'carvone'), (440917, 'd-limonene')])\n",
    "# Initialize UI\n",
    "ui = UI(molecules, print_PID_average=True)\n",
    "NUM_PID_SAMPLES = 10000"
   ]
  },
  {
   "cell_type": "code",
   "execution_count": null,
   "metadata": {},
   "outputs": [],
   "source": [
    "eth = \"./ethanol_11-2-21.pkl\"\n",
    "odors = \"./odors.pkl\"\n",
    "\n",
    "# To run without odor table\n",
    "smell_engine = SmellEngine(1000, len(molecules), DataContainer(), debug_mode=False, write_flag=False, PID_mode = True,\n",
    "                                       look_up_table_path=None, oms=molecules)\n",
    "# To run with odor table, diff being specification of pkl file.\n",
    "# smell_engine = SmellEngine(1000, len(molecules), DataContainer(), debug_mode=False, write_flag=False, PID_mode = True,\n",
    "#                                        look_up_table_path=odors, oms=molecules)\n",
    "\n",
    "# Initialize system\n",
    "smell_engine.set_odorant_molecule_ids(list(molecules.keys()))\n",
    "smell_engine.set_odorant_molecule_dilutions([10,1,10])\n",
    "smell_engine.initialize_smell_engine_system()\n",
    "smell_engine.smell_controller.valve_driver.num_pid_samples = NUM_PID_SAMPLES\n",
    "smell_engine.olfactometer.loaded_molecules"
   ]
  },
  {
   "cell_type": "code",
   "execution_count": null,
   "metadata": {
    "jupyter": {
     "source_hidden": true
    }
   },
   "outputs": [],
   "source": [
    "# Tell me how to get max_flow_rates and n_jars from smell_engine\n",
    "n_jars = len(smell_engine.olfactometer.jars)\n",
    "print(n_jars)\n",
    "max_flow_rates = smell_engine.smell_controller.get_max_flow_rates()\n",
    "total_vapor = smell_engine.smell_controller.get_vapor_concs_dense(set(list(smell_engine.target_concentration))).sum(axis=0)\n",
    "print(f\"Max Flow Rate {max_flow_rates}\\nVapor Pressures {total_vapor}\")"
   ]
  },
  {
   "cell_type": "code",
   "execution_count": null,
   "metadata": {},
   "outputs": [],
   "source": [
    "##### INITIALIZE CONCENTRATION SLIDERS\n",
    "ui.odorConcentrationUI()"
   ]
  },
  {
   "cell_type": "code",
   "execution_count": null,
   "metadata": {},
   "outputs": [],
   "source": [
    "# SPECIFYING CONCENTRATIONS WITHOUT THREADED SLIDERS\n",
    "concentration_mixtures = ui.odorConcentrationValues() # Read in user-specified concentrations\n",
    "#     print(concentration_mixtures)\n",
    "smell_engine.set_desired_concentrations(concentration_mixtures)  # Assign target concentrationskeys"
   ]
  },
  {
   "cell_type": "code",
   "execution_count": null,
   "metadata": {},
   "outputs": [],
   "source": [
    "ui.dutyCyclesUI()"
   ]
  },
  {
   "cell_type": "code",
   "execution_count": null,
   "metadata": {},
   "outputs": [],
   "source": [
    "ui.mfcUI()"
   ]
  },
  {
   "cell_type": "code",
   "execution_count": null,
   "metadata": {},
   "outputs": [],
   "source": [
    "smell_engine.set_valve_duty_cycles(ui.dutyCyclesValues())\n",
    "print(ui.dutyCyclesValues())\n",
    "mfcs = []  # TODO: Fix referencing order of MFC setpoints to be automatic\n",
    "mfcs.append(ui.mfcValues()[0])\n",
    "mfcs.append(ui.mfcValues()[2])\n",
    "mfcs.append(ui.mfcValues()[1])\n",
    "smell_engine.set_mfc_setpoints(ui.mfcValues())"
   ]
  },
  {
   "cell_type": "code",
   "execution_count": null,
   "metadata": {},
   "outputs": [],
   "source": [
    "# Timer setup specifies sampling frequency, sampling rate specifics # of samples to read\n",
    "PID_mode = True\n",
    "pid = PID_Tester(ui, smell_engine, PID_mode, cont_read_conc=False,sampling_rate = NUM_PID_SAMPLES)\n",
    "\n",
    "pid.timer_setup(.00001)\n",
    "pid.timer_start()\n",
    "display(ui.timeSeries)"
   ]
  },
  {
   "cell_type": "code",
   "execution_count": null,
   "metadata": {},
   "outputs": [],
   "source": [
    "# %matplotlib widget\n",
    "smell_engine.close_smell_engine()"
   ]
  }
 ],
 "metadata": {
  "kernelspec": {
   "display_name": "Python 3",
   "language": "python",
   "name": "python3"
  },
  "language_info": {
   "codemirror_mode": {
    "name": "ipython",
    "version": 3
   },
   "file_extension": ".py",
   "mimetype": "text/x-python",
   "name": "python",
   "nbconvert_exporter": "python",
   "pygments_lexer": "ipython3",
   "version": "3.8.5"
  }
 },
 "nbformat": 4,
 "nbformat_minor": 4
}
