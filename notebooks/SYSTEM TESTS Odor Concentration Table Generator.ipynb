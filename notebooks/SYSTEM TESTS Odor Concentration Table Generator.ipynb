{
 "cells": [
  {
   "cell_type": "code",
   "execution_count": null,
   "metadata": {},
   "outputs": [],
   "source": [
    "import time\n",
    "import datetime\n",
    "from collections import OrderedDict\n",
    "import threading\n",
    "import random\n",
    "import collections\n",
    "import os\n",
    "import numpy as np\n",
    "import nidaqmx\n",
    "import pickle\n",
    "import sys\n",
    "import pandas as pd\n",
    "\n",
    "import quantities as pq\n",
    "from nidaqmx.stream_writers import (\n",
    "    DigitalSingleChannelWriter, DigitalMultiChannelWriter)\n",
    "from nidaqmx.utils import flatten_channel_string\n",
    "from nidaqmx.constants import (\n",
    "    LineGrouping, AcquisitionType, DigitalWidthUnits, Edge,\n",
    "    HandshakeStartCondition, Level, MIOAIConvertTimebaseSource,\n",
    "    OverflowBehavior, TaskMode, Polarity, RegenerationMode,\n",
    "    SampleInputDataWhen, SampleTimingType, UnderflowBehavior)\n",
    "from nidaqmx.error_codes import DAQmxErrors, DAQmxWarnings\n",
    "from nidaqmx.errors import (\n",
    "    check_for_error, is_string_buffer_too_small, DaqError, DaqResourceWarning)\n",
    "\n",
    "from scipy.optimize import fsolve, least_squares\n",
    "np.set_printoptions(precision=4)\n",
    "\n",
    "from olfactometer.logical_olfactometer import LogicalOlfactometer\n",
    "from olfactometer.equipment import AirSupply, YConnector, Mask, Olfactometer\n",
    "from olfactometer.my_equipment import MyManifold, MyValve, MyJar, MyLowMFC, \\\n",
    "                                      MyMediumMFC, MyHighMFC, PTFETube, StiffTube, \\\n",
    "                                      STUB_LENGTH\n",
    "from olfactometer.odorants import Solution, Compound, ChemicalOrder, \\\n",
    "                                  Vendor, Molecule\n",
    "# from graph import make_graph, draw_graph\n",
    "from pprint import pprint\n",
    "from olfactometer.smell_engine_communicator import SmellEngineCommunicator\n",
    "from olfactometer.data_container import DataContainer\n",
    "from olfactometer.ui import UI\n",
    "from olfactometer.PID_tester import PID_Tester\n",
    "from IPython.display import display"
   ]
  },
  {
   "cell_type": "code",
   "execution_count": null,
   "metadata": {},
   "outputs": [],
   "source": [
    "import numpy as np\n",
    "from tqdm import tqdm\n",
    "import itertools\n",
    "import pandas as pd\n",
    "from scipy.spatial import KDTree\n",
    "import math"
   ]
  },
  {
   "cell_type": "markdown",
   "metadata": {},
   "source": [
    "# Generate Concentration Space "
   ]
  },
  {
   "cell_type": "code",
   "execution_count": null,
   "metadata": {},
   "outputs": [],
   "source": [
    "NUM_DIMENSIONS = 1 #Value of \n",
    "import sys\n",
    "\n",
    "conc_set = [0]+np.geomspace(1e-9, 1e-3, num=49).tolist()   # Generate evenly distributed logarithmic list of concentration values ranging from [0.01, 1]\n",
    "\n",
    "multi_dim_conc = list(itertools.product(conc_set, repeat=NUM_DIMENSIONS))    \n",
    "\n",
    "def closest_point(conc) -> (float,int):\n",
    "    rounded_points = np.ones(len(conc))\n",
    "    points = np.ones(len(conc))\n",
    "    for idx, axis in enumerate(conc): \n",
    "        points[idx] = axis\n",
    "        rounded_points[idx]=min(conc_set, key=lambda xP:abs(xP-axis))\n",
    "    dist = np.sum(np.square(points - rounded_points))\n",
    "    index = multi_dim_conc.index(tuple(rounded_points))\n",
    "    return dist, index\n"
   ]
  },
  {
   "cell_type": "markdown",
   "metadata": {},
   "source": [
    "# Initialize Code To Generate Hardware States"
   ]
  },
  {
   "cell_type": "code",
   "execution_count": null,
   "metadata": {},
   "outputs": [],
   "source": [
    "NUM_VALVES = 10\n",
    "NUM_BLANK_JARS = 2\n",
    "NUM_ODORANT_JARS = 1 #Ethanol\n",
    "NUM_MFC_SETPOINTS = 15\n",
    "# Generate evenly distributed logarithmic list of concentration values ranging from [0.01, 1]\n",
    "JAR_CONCENTRATIONS = np.geomspace(0.01, 1, num=7).tolist() + (np.linspace(0,1,num=10)).tolist()[0:9] #[0]+np.geomspace(0.01, 1, num=7).tolist()\n",
    "\n",
    "# Read in valve states and number of active jars with odorants\n",
    "def valve_combinations(possible_valve_states):\n",
    "    combos = []\n",
    "    empty_jars = [0.0 for i in range(0,(NUM_VALVES - (NUM_ODORANT_JARS+NUM_BLANK_JARS)))] # Generate list of empty jars, +1 for empty jar\n",
    "    for x in possible_valve_states:    # For A states\n",
    "        for y in possible_valve_states:    # For B states\n",
    "            if (x == 0 or y ==0):     # ensure no valve is in both state A && B\n",
    "                combos.append((float(x),float(y)))\n",
    "    # Cartesian product of length number of jars with odorants +1 (for empty jar balance) => combination of all possible individual valve states within range                     \n",
    "    valve_states = list(itertools.product(combos, repeat = NUM_ODORANT_JARS + NUM_BLANK_JARS))    \n",
    "    return_state = []\n",
    "    return_states = []\n",
    "    # Convert tuple pairs (state A, state B) into list of wA[0:10] union wB[0:10]\n",
    "    for state in valve_states: \n",
    "        a_s = []\n",
    "        b_s = []\n",
    "        for (a,b) in state:             \n",
    "            #return_state = return_state + [a,b]\n",
    "            a_s.append(float(a))\n",
    "            b_s.append(float(b))\n",
    "        return_state = a_s + empty_jars + b_s + empty_jars  # Pad occupied jars in respective state with remaining (empty) jars in respective state\n",
    "        if (1 in a_s and 1 in b_s):    # Ensure there is at least 1 jar with full unit of occupancy per smell frame\n",
    "            return_states.append(return_state)\n",
    "        return_state = []\n",
    "    return(return_states)\n",
    "\n",
    "# Generate list of possible MFC setpoints union valve states\n",
    "# param: valve_combos is the returned result of valve_combinations()\n",
    "def mfc_combinations(start,end, num, valve_combos):\n",
    "    total_combos = []\n",
    "    if(start == 0): start = 0.01\n",
    "    if(end == 0): end = 0.01\n",
    "    mfc_combs = [0]+np.geomspace(start, end, num=num).tolist()   # evenly distributed logarithmic list of mfc setpoints ranging from [0.01, 1]\n",
    "    # For returned valve states, append combination of MFC setpoints\n",
    "    for state in valve_combos:\n",
    "        for A in mfc_combs:     # For mfc A values\n",
    "            for B in mfc_combs:  # for mfc B values\n",
    "                if (B > 0.1): # if operating above 1 cc/min\n",
    "                    total_combos.append([float(A),float(B)] + state)\n",
    "    return(total_combos)"
   ]
  },
  {
   "cell_type": "code",
   "execution_count": null,
   "metadata": {},
   "outputs": [],
   "source": [
    "mfc_combs = [0]+np.geomspace(0.01, 1, num=15).tolist()\n",
    "print(mfc_combs)"
   ]
  },
  {
   "cell_type": "markdown",
   "metadata": {},
   "source": [
    "# Generate Hardware States\n",
    "The number of possible states to check is very large."
   ]
  },
  {
   "cell_type": "code",
   "execution_count": null,
   "metadata": {},
   "outputs": [],
   "source": [
    "# olfactometer_combinations = valve_combinations(JAR_CONCENTRATIONS)\n",
    "olfactometer_combinations = mfc_combinations(0,1,NUM_MFC_SETPOINTS,valve_combinations(JAR_CONCENTRATIONS))\n",
    "\n",
    "print(len(olfactometer_combinations))\n",
    "# print(olfactometer_combinations[10])\n"
   ]
  },
  {
   "cell_type": "markdown",
   "metadata": {},
   "source": [
    "# Import Olfactometer Dependencies "
   ]
  },
  {
   "cell_type": "markdown",
   "metadata": {},
   "source": [
    "# Initialize Molecules and Smell Engine"
   ]
  },
  {
   "cell_type": "code",
   "execution_count": null,
   "metadata": {},
   "outputs": [],
   "source": [
    "# Initialize # molecules\n",
    "molecules = OrderedDict([(702, 'Ethanol')])"
   ]
  },
  {
   "cell_type": "code",
   "execution_count": null,
   "metadata": {},
   "outputs": [],
   "source": [
    "# NUM_PID_SAMPLES = 50\n",
    "smell_engine = SmellEngine(1000, DataContainer(), debug_mode=True, write_flag=False, PID_mode = False, oms=molecules)  # WRITE MODE ENABLED\n",
    "# Initialize system\n",
    "smell_engine.set_odorant_molecule_ids(list(molecules.keys()))\n",
    "smell_engine.set_odorant_molecule_dilutions([1])\n",
    "smell_engine.initialize_smell_engine_system()\n",
    "smell_engine.olf.loaded_molecules"
   ]
  },
  {
   "cell_type": "markdown",
   "metadata": {},
   "source": [
    "# Generate Data\n",
    "Note this is the cell that takes a long time to execute. "
   ]
  },
  {
   "cell_type": "code",
   "execution_count": null,
   "metadata": {},
   "outputs": [],
   "source": [
    "# Format data for generating Pandas Dataframe\n",
    "max_flow_rates = smell_engine.olf.get_max_flow_rates()\n",
    "total_vapor = smell_engine.olf.get_vapor_concs_dense(set(list(smell_engine.target_concentration)))\n",
    "A = smell_engine.olf.A.magnitude\n",
    "n_jars = len(smell_engine.olf.jars)\n",
    "NUMBER_OF_JARS_WITH_ODORANTS = 1\n",
    "\n",
    "#alpha = 1e-25\n",
    "\n",
    "NUMBER_THREADS = 6\n",
    "threading_results = [1]*NUMBER_THREADS\n",
    "\n",
    "def generate_optimal_concentration(olfactometer_combinations,index):\n",
    "    length = len(olfactometer_combinations)\n",
    "    optimal_concentration_configurations = [(float(\"inf\"),float(\"inf\"))]*len(multi_dim_conc)\n",
    "    for i in range(length):\n",
    "        if(i %int(length/1000) == 0): print(f\"Thread {index} {(i/length)*1000}\") #Progress \"bar\" old one breaks with threading\n",
    "        new_conc_combo = list(smell_engine.olf.calc_conc(np.array(olfactometer_combinations[i]), n_jars, max_flow_rates, A).sum(axis=0)[:NUMBER_OF_JARS_WITH_ODORANTS])\n",
    "        _dist, _index = closest_point(new_conc_combo)\n",
    "        #Penalty Code based on alpha\n",
    "        valve_states = np.array(olfactometer_combinations[i][2:])\n",
    "#         penalty = alpha * np.nan_to_num(np.reciprocal(valve_states),posinf=0, neginf=0).sum() \n",
    "        #print(olfactometer_combinations[i][2:],np.nan_to_num(np.reciprocal(valve_states),posinf=0, neginf=0))\n",
    "        #Penalty Code End \n",
    "        if(optimal_concentration_configurations[_index][0]>_dist):\n",
    "            optimal_concentration_configurations[_index] = (_dist, olfactometer_combinations[i])\n",
    "    print(f\"Thread {index} is ending\")\n",
    "    threading_results[index] = optimal_concentration_configurations\n"
   ]
  },
  {
   "cell_type": "code",
   "execution_count": null,
   "metadata": {},
   "outputs": [],
   "source": [
    "import logging\n",
    "import threading\n",
    "\n",
    "\n",
    "#split olfactometer_combinations by number of threads \n",
    "olfactometer_combinations_list = []\n",
    "combination_list_length = len(olfactometer_combinations) / NUMBER_THREADS\n",
    "\n",
    "for i in range(0,NUMBER_THREADS):\n",
    "    olfactometer_combinations_list.append(olfactometer_combinations[int(i*combination_list_length):int((i+1)*combination_list_length)])\n",
    "    \n",
    "threads = []\n",
    "for i in range(0,NUMBER_THREADS):\n",
    "    _thread = threading.Thread(target = generate_optimal_concentration,args = (olfactometer_combinations_list[i],i,))\n",
    "    threads.append(_thread)\n",
    "    _thread.start()"
   ]
  },
  {
   "cell_type": "code",
   "execution_count": null,
   "metadata": {},
   "outputs": [],
   "source": [
    "\n",
    "final_optimal_concentration_configurations = threading_results[0]\n",
    "\n",
    "\n",
    "for results in threading_results[1:]:\n",
    "    for idx, (dist,config) in enumerate(results): \n",
    "        if(final_optimal_concentration_configurations[idx][0]>dist):\n",
    "            final_optimal_concentration_configurations[idx]=(dist,config)\n",
    "    \n",
    "optimal_concentration_configurations = final_optimal_concentration_configurations #Works with remaining code\n"
   ]
  },
  {
   "cell_type": "markdown",
   "metadata": {},
   "source": [
    "# Format for Data"
   ]
  },
  {
   "cell_type": "code",
   "execution_count": null,
   "metadata": {},
   "outputs": [],
   "source": [
    "body_values = []\n",
    "index_values = []\n",
    "\n",
    "for idx, machine_config in enumerate(optimal_concentration_configurations):\n",
    "    if (machine_config[0] != float(\"inf\")):   # Safety check for impossible configs\n",
    "        index_values.append(tuple(machine_config[1])) # Store machine configuration as index for dataframe\n",
    "        body_values.append(multi_dim_conc[idx]) # Store concentration as body emtry for dataframe"
   ]
  },
  {
   "cell_type": "code",
   "execution_count": null,
   "metadata": {},
   "outputs": [],
   "source": [
    "print(f\"There are {len(multi_dim_conc)-len(body_values)} unobtainnable results.\")"
   ]
  },
  {
   "cell_type": "markdown",
   "metadata": {},
   "source": [
    "# Wrtie to Data Frame and then Save"
   ]
  },
  {
   "cell_type": "code",
   "execution_count": null,
   "metadata": {},
   "outputs": [],
   "source": [
    "# Generate dataframe indexed by oflactometer configurations and body containing concentration values\n",
    "df = pd.DataFrame(body_values, index=index_values, columns=['Ethanol'])"
   ]
  },
  {
   "cell_type": "code",
   "execution_count": null,
   "metadata": {},
   "outputs": [],
   "source": [
    "df.to_pickle(\"./ethanol_11-2-21.pkl\")"
   ]
  },
  {
   "cell_type": "markdown",
   "metadata": {},
   "source": [
    "# Data Table Validation"
   ]
  },
  {
   "cell_type": "code",
   "execution_count": null,
   "metadata": {},
   "outputs": [],
   "source": [
    "# Data Table to Read In\n",
    "df = pd.read_pickle(\"./ethanol_11-2-21.pkl\")"
   ]
  },
  {
   "cell_type": "code",
   "execution_count": null,
   "metadata": {},
   "outputs": [],
   "source": [
    "state_array = []\n",
    "for idx, state in enumerate(df.index):\n",
    "    if(list(state)[-1] != 0):\n",
    "        print(list(state)[-1])\n",
    "    conc = [df[\"Ethanol\"][idx]]\n",
    "    state_array.append(conc + list(state))"
   ]
  },
  {
   "cell_type": "code",
   "execution_count": null,
   "metadata": {},
   "outputs": [],
   "source": [
    "df_states = pd.DataFrame(state_array, columns=[\"cE\",\"mfcA\",\"mfcB\",\"h1\",\"h2\",\"h3\",\"h4\",\"h5\",\"h6\",\"h7\",\"h8\",\"h9\",\"h10\",\"L1\",\"L2\",\"L3\",\"L4\",\"L5\",\"L6\",\"L7\",\"L8\",\"L9\",\"L10\"])"
   ]
  },
  {
   "cell_type": "code",
   "execution_count": null,
   "metadata": {},
   "outputs": [],
   "source": [
    "df_states"
   ]
  },
  {
   "cell_type": "code",
   "execution_count": null,
   "metadata": {},
   "outputs": [],
   "source": [
    "df_states[12:13]"
   ]
  },
  {
   "cell_type": "code",
   "execution_count": null,
   "metadata": {},
   "outputs": [],
   "source": [
    "# df_states.loc[(df_states[\"mfcB\"]>0.2) & (df_states[\"cA\"] == 0) & (df_states[\"dL\"] == 0)]\n",
    "df_states.loc[(df_states[\"cC\"]>0)] #df_states[\"cE\"]== 0)]"
   ]
  }
 ],
 "metadata": {
  "kernelspec": {
   "display_name": "Python 3",
   "language": "python",
   "name": "python3"
  },
  "language_info": {
   "codemirror_mode": {
    "name": "ipython",
    "version": 3
   },
   "file_extension": ".py",
   "mimetype": "text/x-python",
   "name": "python",
   "nbconvert_exporter": "python",
   "pygments_lexer": "ipython3",
   "version": "3.8.5"
  }
 },
 "nbformat": 4,
 "nbformat_minor": 4
}
