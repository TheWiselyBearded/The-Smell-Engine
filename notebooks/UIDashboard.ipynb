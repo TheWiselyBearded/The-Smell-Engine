{
 "cells": [
  {
   "cell_type": "markdown",
   "metadata": {},
   "source": [
    "# Testing Functionality Sample Code\n",
    "\n",
    "Currently the code is just starting to get the layout flushed out. I need to find out the definte numbers for the number of Jars and Valves\n",
    "\n",
    "## Notes \n",
    "1. Get values of elements by calling `slider.v_model`\n",
    "2. UI elements in arrays can still be dislayed by going `element[index]` -> This can be used to create variable UIs\n",
    "3. Tested and works withe voila! However not in the olfactory environment. \n",
    "\n",
    "## Tasks From Slack\n",
    "- [x] What odorant is in each jar (odorant objects would get pulled from a database we have using DataJoint, but you can just pretend it is a text file), via Dropdown menu with autocomplete.\n",
    "- [x] Concentration of each odorant (via textbox or slider)\n",
    "- [ ] Mixtures of odorants of various concentrations.  These are the mixtures as they exist in the jars, before dynamic mixing by the device.\n",
    "- [ ] Duty cycles of each position (3) of each valve (10).\n",
    "- [ ] Flow rate and voltage (one proportional to the other) at each mass-flow-controller (MFC, 3).\n",
    "- [ ] Desired mixtures of odorants at the mask.  In contrast to the above, this is a target that the rest of the code aims to implement, rather than a description of the conditions of the system.\n",
    "- [ ] Output of the photo-ionization detector (PID).  This is a continuously updating time series, where we care about only the last few seconds.\n",
    "\n",
    "## Questions about the tasks \n",
    "* Mixtures of odorants as the exist in jars? -> Why have this if you choose what odorant is in each jar.\n",
    "* Duty cycles -> 3 of each valve 10. Does that mean there needs to be 30 input text fields for 30 duty cycle input values \n",
    "\n",
    "## Dependencies \n",
    "These are required for the ploty graph to dynamically update\n",
    "`jupyter labextension install jupyterlab-plotly@4.14.3`\n",
    "`jupyter labextension install @jupyter-widgets/jupyterlab-manager plotlywidget@4.14.3` \n",
    "\n"
   ]
  },
  {
   "cell_type": "code",
   "execution_count": 1,
   "metadata": {},
   "outputs": [],
   "source": [
    "from collections import OrderedDict\n",
    "from ui import UI\n",
    "\n",
    "molecules = OrderedDict([(439250, 'l-limonene'), (439570, 'l-carvone'), (440917, 'd-limonene')])"
   ]
  },
  {
   "cell_type": "code",
   "execution_count": 2,
   "metadata": {},
   "outputs": [],
   "source": [
    "\n",
    "Ui = UI(molecules)\n"
   ]
  },
  {
   "cell_type": "code",
   "execution_count": 3,
   "metadata": {},
   "outputs": [
    {
     "data": {
      "text/plain": [
       "Container(children=[Row(children=[Col(children=[Html(children=['Set Jar Odorants'], tag='h3')])]), Row(childre…"
      ]
     },
     "metadata": {},
     "output_type": "display_data"
    }
   ],
   "source": [
    "Ui.odorSelectorUI()"
   ]
  },
  {
   "cell_type": "code",
   "execution_count": 4,
   "metadata": {},
   "outputs": [
    {
     "data": {
      "text/plain": [
       "Container(children=[Row(children=[Col(children=[Html(children=['Set Odorants Concentration'], tag='h3')])]), R…"
      ]
     },
     "metadata": {},
     "output_type": "display_data"
    }
   ],
   "source": [
    "Ui.odorConcentrationUI()"
   ]
  },
  {
   "cell_type": "code",
   "execution_count": 6,
   "metadata": {},
   "outputs": [
    {
     "name": "stdout",
     "output_type": "stream",
     "text": [
      "[1e-10, 1.0, 1.0]\n"
     ]
    },
    {
     "data": {
      "text/plain": [
       "[1e-10, 1.0, 1.0]"
      ]
     },
     "execution_count": 6,
     "metadata": {},
     "output_type": "execute_result"
    }
   ],
   "source": [
    "Ui.odorConcentrationValues()"
   ]
  },
  {
   "cell_type": "code",
   "execution_count": 8,
   "metadata": {},
   "outputs": [],
   "source": [
    "Ui.odorantsConcnetrationSlider[0].v_model=-1"
   ]
  },
  {
   "cell_type": "code",
   "execution_count": 30,
   "metadata": {},
   "outputs": [],
   "source": [
    "Ui.odorConcentrationSetStep(6)"
   ]
  },
  {
   "cell_type": "code",
   "execution_count": 6,
   "metadata": {},
   "outputs": [
    {
     "data": {
      "text/plain": [
       "Container(children=[Row(children=[Col(children=[Html(children=['Valve Duty Cycles'], tag='h3')])]), Row(childr…"
      ]
     },
     "metadata": {},
     "output_type": "display_data"
    }
   ],
   "source": [
    "Ui.dutyCyclesUI()"
   ]
  },
  {
   "cell_type": "code",
   "execution_count": 14,
   "metadata": {},
   "outputs": [
    {
     "data": {
      "text/plain": [
       "Container(children=[Row(children=[Col(children=[Html(children=['Mass Flow Controlers Flow and Voltage'], tag='…"
      ]
     },
     "metadata": {},
     "output_type": "display_data"
    }
   ],
   "source": [
    "Ui.mfcUI()\n",
    "#Ui.dutyCyclesValues()"
   ]
  },
  {
   "cell_type": "code",
   "execution_count": null,
   "metadata": {},
   "outputs": [],
   "source": []
  },
  {
   "cell_type": "code",
   "execution_count": 8,
   "metadata": {},
   "outputs": [
    {
     "data": {
      "text/plain": [
       "FigureWidget({\n",
       "    'data': [{'type': 'scatter', 'uid': '254a6482-760b-4412-8346-abd92b6e007c', 'y': []}],\n",
       "    …"
      ]
     },
     "metadata": {},
     "output_type": "display_data"
    }
   ],
   "source": [
    "Ui.timeSeries #Note this is not a function"
   ]
  },
  {
   "cell_type": "code",
   "execution_count": 9,
   "metadata": {},
   "outputs": [
    {
     "data": {
      "text/plain": [
       "{'odorSelector': ['(+)-carvone',\n",
       "  '(+)-carvone',\n",
       "  '(+)-carvone',\n",
       "  '(+)-carvone',\n",
       "  '(+)-carvone'],\n",
       " 'concentrations': [1, 1, 1, 1, 1, 1, 1],\n",
       " 'dutyCycles': [(0, 0),\n",
       "  (0, 0),\n",
       "  (0, 0),\n",
       "  (0, 0),\n",
       "  (0, 0),\n",
       "  (0, 0),\n",
       "  (0, 0),\n",
       "  (0, 0),\n",
       "  (0, 0),\n",
       "  (0, 0)],\n",
       " 'mfc': [(0, 0.0), (0, 0.0), (0, 0.0)]}"
      ]
     },
     "execution_count": 9,
     "metadata": {},
     "output_type": "execute_result"
    }
   ],
   "source": [
    "Ui.allValues()"
   ]
  },
  {
   "cell_type": "code",
   "execution_count": 12,
   "metadata": {},
   "outputs": [],
   "source": [
    "def printT(widget, event, data):\n",
    "    print(\"hello\")\n",
    "    \n",
    "Ui.dutyCycleUpdateBtn.on_event('click', printT)"
   ]
  },
  {
   "cell_type": "code",
   "execution_count": null,
   "metadata": {},
   "outputs": [],
   "source": []
  }
 ],
 "metadata": {
  "kernelspec": {
   "display_name": "Python 3",
   "language": "python",
   "name": "python3"
  },
  "language_info": {
   "codemirror_mode": {
    "name": "ipython",
    "version": 3
   },
   "file_extension": ".py",
   "mimetype": "text/x-python",
   "name": "python",
   "nbconvert_exporter": "python",
   "pygments_lexer": "ipython3",
   "version": "3.8.5"
  }
 },
 "nbformat": 4,
 "nbformat_minor": 5
}
