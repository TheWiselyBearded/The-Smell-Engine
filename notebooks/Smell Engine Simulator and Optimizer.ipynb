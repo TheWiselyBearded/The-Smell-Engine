{
 "cells": [
  {
   "cell_type": "markdown",
   "metadata": {},
   "source": [
    "## Setup\n",
    "1- Clone nidaqmx simulator from https://github.com/TheWiselyBearded/nidaqmx-python\n",
    "\n",
    "2- Navigate to cloned directory and run `pip install -e .`\n",
    "\n",
    "3- Run notebook w/ simulator attached."
   ]
  },
  {
   "cell_type": "code",
   "execution_count": null,
   "metadata": {},
   "outputs": [],
   "source": [
    "import time\n",
    "import datetime\n",
    "from collections import OrderedDict\n",
    "import threading\n",
    "import random\n",
    "import collections\n",
    "import os\n",
    "import numpy as np\n",
    "import nidaqmx\n",
    "import pickle\n",
    "import sys\n",
    "\n",
    "import quantities as pq\n",
    "from nidaqmx.stream_writers import (\n",
    "    DigitalSingleChannelWriter, DigitalMultiChannelWriter)\n",
    "from nidaqmx.utils import flatten_channel_string\n",
    "from nidaqmx.constants import (\n",
    "    LineGrouping, AcquisitionType, DigitalWidthUnits, Edge,\n",
    "    HandshakeStartCondition, Level, MIOAIConvertTimebaseSource,\n",
    "    OverflowBehavior, TaskMode, Polarity, RegenerationMode,\n",
    "    SampleInputDataWhen, SampleTimingType, UnderflowBehavior)\n",
    "from nidaqmx.error_codes import DAQmxErrors, DAQmxWarnings\n",
    "from nidaqmx.errors import (\n",
    "    check_for_error, is_string_buffer_too_small, DaqError, DaqResourceWarning)\n",
    "\n",
    "from scipy.optimize import fsolve, least_squares\n",
    "np.set_printoptions(precision=4)\n",
    "\n",
    "from olfactometer.logical_olfactometer import LogicalOlfactometer\n",
    "from olfactometer.equipment import AirSupply, YConnector, Mask, Olfactometer\n",
    "from olfactometer.my_equipment import MyManifold, MyValve, MyJar, MyLowMFC, \\\n",
    "                                      MyMediumMFC, MyHighMFC, PTFETube, StiffTube, \\\n",
    "                                      STUB_LENGTH\n",
    "from olfactometer.odorants import Solution, Compound, ChemicalOrder, \\\n",
    "                                  Vendor, Molecule\n",
    "# from graph import make_graph, draw_graph\n",
    "from pprint import pprint\n",
    "from olfactometer.smell_engine_communicator import SmellEngineCommunicator\n",
    "from olfactometer.data_container import DataContainer\n",
    "from olfactometer.ui import UI\n",
    "from olfactometer.PID_tester import PID_Tester\n",
    "from IPython.display import display"
   ]
  },
  {
   "cell_type": "markdown",
   "metadata": {},
   "source": [
    "### Specify molecules + dilutions"
   ]
  },
  {
   "cell_type": "code",
   "execution_count": null,
   "metadata": {},
   "outputs": [],
   "source": [
    "#molecules = OrderedDict([(439250, 'l-limonene'), (439570, 'l-carvone'), (440917, 'd-limonene')])\n",
    "#molecule_dilutions = [10, 100, 10]\n",
    "#molecules = OrderedDict([(7410, 'Acetophenone'), (7439, 'carvone'), (440917, 'd-limonene')])\n",
    "molecules = OrderedDict([(702, 'Ethanol')])\n",
    "molecule_dilutions = [10]\n",
    "#molecule_dilutions = [10, 1, 10]\n",
    "# Initialize UI\n",
    "ui = UI(molecules, print_PID_average=False)"
   ]
  },
  {
   "cell_type": "markdown",
   "metadata": {},
   "source": [
    "### Initialize system w/ debug_mode(sim)"
   ]
  },
  {
   "cell_type": "code",
   "execution_count": null,
   "metadata": {},
   "outputs": [],
   "source": [
    "smell_engine = SmellEngine(1000, len(molecules), DataContainer(), debug_mode=True, write_flag=False, PID_mode = False, oms=molecules)  # WRITE MODE ENABLED\n",
    "smell_engine.set_odorant_molecule_ids(list(molecules.keys()))\n",
    "smell_engine.set_odorant_molecule_dilutions(molecule_dilutions)\n",
    "smell_engine.initialize_smell_engine_system()\n",
    "smell_engine.olf.loaded_molecules"
   ]
  },
  {
   "cell_type": "markdown",
   "metadata": {},
   "source": [
    "### Init concentration sliders"
   ]
  },
  {
   "cell_type": "code",
   "execution_count": null,
   "metadata": {},
   "outputs": [],
   "source": [
    "print(smell_engine.olf.jars.items())\n",
    "print(smell_engine.olf.optimized_values)\n",
    "#for j, _ in self.jars.items():\n",
    "    "
   ]
  },
  {
   "cell_type": "code",
   "execution_count": null,
   "metadata": {},
   "outputs": [],
   "source": [
    "ui.odorConcentrationUI()"
   ]
  },
  {
   "cell_type": "code",
   "execution_count": null,
   "metadata": {},
   "outputs": [],
   "source": [
    "# SPECIFYING CONCENTRATIONS WITHOUT THREADED SLIDERS\n",
    "concentration_mixtures = ui.odorConcentrationValues() # Read in user-specified concentrations\n",
    "# Assign target concentrations which runs optimizer\n",
    "smell_engine.set_desired_concentrations(concentration_mixtures)  "
   ]
  },
  {
   "cell_type": "code",
   "execution_count": null,
   "metadata": {
    "jupyter": {
     "source_hidden": true
    }
   },
   "outputs": [],
   "source": [
    "smell_engine.set_desired_concentrations([1e-9, 1e-9, 1e-9]) \n",
    "smell_engine.set_desired_concentrations([1e-7, 1e-9, 1e-9]) \n",
    "smell_engine.set_desired_concentrations([1e-6, 1e-9, 1e-9]) \n",
    "smell_engine.set_desired_concentrations([1e-5, 1e-9, 1e-9]) \n",
    "smell_engine.set_desired_concentrations([1e-3, 1e-9, 1e-9]) \n",
    "smell_engine.set_desired_concentrations([1e-9, 1e-7, 1e-7]) \n",
    "smell_engine.set_desired_concentrations([1e-7, 1e-7, 1e-7]) \n",
    "smell_engine.set_desired_concentrations([1e-6, 1e-7, 1e-7]) \n",
    "smell_engine.set_desired_concentrations([1e-5, 1e-7, 1e-7]) \n",
    "smell_engine.set_desired_concentrations([1e-3, 1e-7, 1e-7]) \n",
    "smell_engine.set_desired_concentrations([1e-9, 1e-6, 1e-6]) \n",
    "smell_engine.set_desired_concentrations([1e-7, 1e-6, 1e-6]) \n",
    "smell_engine.set_desired_concentrations([1e-6, 1e-6, 1e-6]) \n",
    "smell_engine.set_desired_concentrations([1e-5, 1e-6, 1e-6]) \n",
    "smell_engine.set_desired_concentrations([1e-3, 1e-6, 1e-6]) "
   ]
  },
  {
   "cell_type": "code",
   "execution_count": null,
   "metadata": {},
   "outputs": [],
   "source": [
    "smell_engine.olf.write_out_data()"
   ]
  },
  {
   "cell_type": "code",
   "execution_count": null,
   "metadata": {},
   "outputs": [],
   "source": [
    "x= [-1.96417781e+04,  7.24018364e-09,  7.23739848e-09,  7.24148372e-09,\n",
    "        7.24148372e-09,  7.24358596e-09,  7.23564058e-09,  7.24358596e-09,\n",
    "        7.24148372e-09,  7.24148372e-09, -4.61896670e+00,  7.14479478e-09,\n",
    "        7.14479472e-09,  7.14479481e-09,  7.14479480e-09,  7.14479484e-09,\n",
    "        7.14479467e-09,  7.14479485e-09,  7.14479480e-09,  7.14479480e-09,\n",
    "       -9.10437587e-11, -8.25071524e-09]\n",
    "\n",
    "smell_engine.olf.opt_report_nl_solver(x)"
   ]
  },
  {
   "cell_type": "markdown",
   "metadata": {},
   "source": [
    "### To plot contours\n",
    "Copy/paste `variables` and `x` which is outputted from the optimizer call in the cell above (setting desired concentration) "
   ]
  },
  {
   "cell_type": "code",
   "execution_count": null,
   "metadata": {},
   "outputs": [],
   "source": [
    "%matplotlib widget\n",
    "# for 1 picomols\n",
    "# Variables represents output of NLLSQ\n",
    "variables = [0.07444331758826919, 0.10274727290256475, 0.10274727290256475, 0.10274727290256475, 0.10274727290256475, 0.10274727290256475, 0.10274727290256475, 0.10274727290256475, 0.10274727290256475, 0.10274727290256475, 0.09973304338765325, 0.10002964932080552, 0.10002964932080552, 0.10002964932080552, 0.10002964932080552, 0.10002964932080552, 0.10002964932080552, 0.10002964932080552, 0.10002964932080552, 0.10002964932080552, 0.07153918220374905, 0.0997032425152371]\n",
    "# x is optimal flux as outputted from LS\n",
    "x = [5.432296684615908, 0.0, 0.0, 0.0, 0.0, 0.0, 0.0, 0.0, 0.0, 0.0]\n",
    "# Passing variables followed by index of variables to generate contour plot\n",
    "# So, 0 => Valve 1 A and 10 => Valve 1 B\n",
    "smell_engine.olf.mutlidim_plotting.graph_contour_points(variables,0,21,x)\n",
    "print(smell_engine.olf.mutlidim_plotting.constants_text(variables,0,21,x))"
   ]
  },
  {
   "cell_type": "code",
   "execution_count": null,
   "metadata": {},
   "outputs": [],
   "source": []
  }
 ],
 "metadata": {
  "kernelspec": {
   "display_name": "Python 3",
   "language": "python",
   "name": "python3"
  },
  "language_info": {
   "codemirror_mode": {
    "name": "ipython",
    "version": 3
   },
   "file_extension": ".py",
   "mimetype": "text/x-python",
   "name": "python",
   "nbconvert_exporter": "python",
   "pygments_lexer": "ipython3",
   "version": "3.8.5"
  }
 },
 "nbformat": 4,
 "nbformat_minor": 4
}
