{
 "cells": [
  {
   "cell_type": "markdown",
   "metadata": {},
   "source": [
    "# Automation Scripts "
   ]
  },
  {
   "cell_type": "markdown",
   "metadata": {},
   "source": [
    "## General Initilzation"
   ]
  },
  {
   "cell_type": "code",
   "execution_count": null,
   "metadata": {},
   "outputs": [],
   "source": [
    "import time\n",
    "from collections import OrderedDict\n",
    "import numpy as np\n",
    "import nidaqmx\n",
    "import pandas as pd\n",
    "from scipy import signal\n",
    "import random\n",
    "\n",
    "import quantities as pq\n",
    "from nidaqmx.stream_writers import (\n",
    "    DigitalSingleChannelWriter, DigitalMultiChannelWriter)\n",
    "from nidaqmx.utils import flatten_channel_string\n",
    "from nidaqmx.constants import (\n",
    "    LineGrouping, AcquisitionType, DigitalWidthUnits, Edge,\n",
    "    HandshakeStartCondition, Level, MIOAIConvertTimebaseSource,\n",
    "    OverflowBehavior, TaskMode, Polarity, RegenerationMode,\n",
    "    SampleInputDataWhen, SampleTimingType, UnderflowBehavior)\n",
    "from nidaqmx.error_codes import DAQmxErrors, DAQmxWarnings\n",
    "from nidaqmx.errors import (\n",
    "    check_for_error, is_string_buffer_too_small, DaqError, DaqResourceWarning)\n",
    "\n",
    "from scipy.optimize import fsolve, least_squares\n",
    "\n",
    "from olfactometer.PID_reader import PID_Tester\n",
    "from olfactometer.valve_driver import ValveDriver\n",
    "from olfactometer.equipment import Olfactometer\n",
    "from olfactometer.my_equipment import MyValve, MyJar, MyLowMFC, \\\n",
    "                                      MyMediumMFC, MyHighMFC\n",
    "from olfactometer.odorants import Solution, Compound, ChemicalOrder, \\\n",
    "                                  Vendor, Molecule\n",
    "from olfactometer.smell_engine import SmellEngine\n",
    "# from graph import make_graph, draw_graph\n",
    "from pprint import pprint\n",
    "from olfactometer.smell_engine_communicator import SmellEngineCommunicator\n",
    "from olfactometer.data_container import DataContainer\n",
    "from olfactometer.ui import UI\n",
    "from IPython.display import display\n",
    "\n",
    "np.set_printoptions(precision=6)"
   ]
  },
  {
   "cell_type": "code",
   "execution_count": null,
   "metadata": {},
   "outputs": [],
   "source": [
    "NUM_ODORANTS = 1"
   ]
  },
  {
   "cell_type": "code",
   "execution_count": null,
   "metadata": {},
   "outputs": [],
   "source": [
    "molecules = OrderedDict([(702, 'Ethanol')])\n",
    "# Initialize UI\n",
    "ui = UI(molecules)\n",
    "NUM_PID_SAMPLES = 10000"
   ]
  },
  {
   "cell_type": "code",
   "execution_count": null,
   "metadata": {},
   "outputs": [],
   "source": [
    "eth = \"./ethanol_11-2-21.pkl\""
   ]
  },
  {
   "cell_type": "code",
   "execution_count": null,
   "metadata": {},
   "outputs": [],
   "source": [
    "smell_engine = SmellEngine(250, len(molecules),DataContainer(), debug_mode=False, write_flag=False, PID_mode = True,look_up_table_path=eth, oms=molecules)\n",
    "# Initialize system\n",
    "smell_engine.set_odorant_molecule_ids(list(molecules.keys()))\n",
    "smell_engine.set_odorant_molecule_dilutions([1])\n",
    "smell_engine.initialize_smell_engine_system()\n",
    "smell_engine.smell_controller.valve_driver.num_pid_samples = NUM_PID_SAMPLES\n",
    "smell_engine.olfactometer.loaded_molecules"
   ]
  },
  {
   "cell_type": "code",
   "execution_count": null,
   "metadata": {},
   "outputs": [],
   "source": [
    "# Tell me how to get max_flow_rates and n_jars from smell_engine\n",
    "n_jars = len(smell_engine.olfactometer.jars)\n",
    "print(n_jars)\n",
    "max_flow_rates = smell_engine.smell_controller.get_max_flow_rates()\n",
    "total_vapor = smell_engine.smell_controller.get_vapor_concs_dense(set(list(smell_engine.target_concentration))).sum(axis=0)\n",
    "print(f\"Max Flow Rate {max_flow_rates}\\nVapor Pressures {total_vapor}\")"
   ]
  },
  {
   "cell_type": "code",
   "execution_count": null,
   "metadata": {},
   "outputs": [],
   "source": [
    "# Timer setup specifies sampling frequency, sampling rate specifics # of samples to read\n",
    "PID_mode = True\n",
    "pid = PID_Tester(ui, smell_engine, PID_mode, cont_read_conc=False,sampling_rate = 10000)\n",
    "\n",
    "pid.timer_setup(.00001)\n",
    "pid.timer_start()\n",
    "#display(ui.timeSeries)"
   ]
  },
  {
   "cell_type": "code",
   "execution_count": null,
   "metadata": {},
   "outputs": [],
   "source": [
    "len(ui.timeSeriesData)"
   ]
  },
  {
   "cell_type": "markdown",
   "metadata": {},
   "source": [
    "Automation Grapher"
   ]
  },
  {
   "cell_type": "markdown",
   "metadata": {},
   "source": [
    "## Concentration Automation"
   ]
  },
  {
   "cell_type": "code",
   "execution_count": null,
   "metadata": {},
   "outputs": [],
   "source": [
    "# FULL\n",
    "concs = [0,0] + np.geomspace(1e-9,1e-3,49).tolist()\n",
    "concs = concs[0:2] + concs[8:]\n",
    "print(concs)"
   ]
  },
  {
   "cell_type": "code",
   "execution_count": null,
   "metadata": {},
   "outputs": [],
   "source": [
    "# LOWER\n",
    "concs = [0,0] + np.geomspace(1e-9,1e-3,49).tolist()\n",
    "#concs = concs[0:41]\n",
    "concs = concs[0:2] + concs[10:41]\n",
    "print(concs)\n",
    "print(len(concs))"
   ]
  },
  {
   "cell_type": "code",
   "execution_count": null,
   "metadata": {},
   "outputs": [],
   "source": [
    "# HIGHER\n",
    "concs = [0,0] + np.geomspace(1e-9,1e-3,49).tolist()\n",
    "concs = [0,0] + concs[-25:]\n",
    "print(concs)"
   ]
  },
  {
   "cell_type": "code",
   "execution_count": null,
   "metadata": {},
   "outputs": [],
   "source": [
    "# Data Format\n",
    "auto_data = {\n",
    "    \"info\":\"Ethanol 100% 11-3-2021 - Lower Concentrations, .25L constant flow\",\n",
    "    \"data\":[]\n",
    "}\n",
    "\n",
    "print(concs)"
   ]
  },
  {
   "cell_type": "code",
   "execution_count": null,
   "metadata": {},
   "outputs": [],
   "source": [
    "len(auto_data[\"data\"])"
   ]
  },
  {
   "cell_type": "markdown",
   "metadata": {},
   "source": [
    "### Steady State"
   ]
  },
  {
   "cell_type": "code",
   "execution_count": null,
   "metadata": {},
   "outputs": [],
   "source": [
    "#Steady State\n",
    "smell_engine.set_desired_concentrations(NUM_ODORANTS*[0])"
   ]
  },
  {
   "cell_type": "code",
   "execution_count": null,
   "metadata": {},
   "outputs": [],
   "source": [
    "import threading\n",
    "import json\n",
    "count_global = 0\n",
    "baseline = 0 \n",
    "init = True \n",
    "WAVE_ACCURACY = 500\n",
    "\n",
    "\n",
    "def auto_collect():\n",
    "    #global variables and variable declarations \n",
    "    global count_global\n",
    "    global concs\n",
    "    global baseline\n",
    "    global init \n",
    "    l_concs = len(concs)\n",
    "    \n",
    "    print(\"COUNT\" + str(count_global)+ \" \" + str(count_global%l_concs))\n",
    "    print(\"CONC\" + str(concs[count_global%l_concs]))\n",
    "    \n",
    "    threading.Timer(10, auto_collect).start()\n",
    "        \n",
    "    pid_average = sum(ui.timeSeries.data[0].y) /len(ui.timeSeries.data[0].y) #calculate the pid_average\n",
    "    \n",
    "    #establish condition to establish a new baseline value\n",
    "    if(count_global%l_concs == 1):\n",
    "        print(f\"NEW BASELINE {pid_average}\")\n",
    "        baseline = pid_average\n",
    "        pid_average_C = pid_average\n",
    "    else: \n",
    "        pid_average_C = pid_average - baseline \n",
    "        \n",
    "    #if not steady stater record data\n",
    "    if(count_global%l_concs != 0):\n",
    "        auto_data[\"data\"].append({\n",
    "            \"conc\":concs[count_global%l_concs],\n",
    "            \"pidC\":pid_average_C,\n",
    "            \"pid\":pid_average,\n",
    "            \"wave\":signal.resample(ui.timeSeries.data[0].y, WAVE_ACCURACY).tolist()\n",
    "        })\n",
    "        \n",
    "    #write data\n",
    "    with open(f\"auto_results_conc.json\",\"w\") as outfile:\n",
    "            json.dump(auto_data,outfile)\n",
    "    count_global = count_global + 1\n",
    "    smell_engine.set_desired_concentrations([concs[count_global%l_concs]])\n",
    "    print(\"END\")\n",
    "        \n",
    "auto_collect()"
   ]
  },
  {
   "cell_type": "code",
   "execution_count": null,
   "metadata": {},
   "outputs": [],
   "source": [
    "import json\n",
    "with open(f\"auto_results_conc_lower_11-3_250mL_const.json\",\"w\") as outfile:\n",
    "        json.dump(auto_data,outfile)"
   ]
  },
  {
   "cell_type": "markdown",
   "metadata": {},
   "source": [
    "## Machine State Automation"
   ]
  },
  {
   "cell_type": "code",
   "execution_count": null,
   "metadata": {},
   "outputs": [],
   "source": [
    "# HIGH\n",
    "# total_flow = 1000\n",
    "# LOW\n",
    "total_flow = 500\n",
    "\n",
    "smell_engine.set_olfactometer_target_outflow(total_flow)\n",
    "\n",
    "def set_machine(state_array):\n",
    "    print([state_array[1],state_array[0],1-(state_array[1]+state_array[0])])\n",
    "    print(state_array[2:22])\n",
    "    valve_duty_cycle = [[i+1,0,0] for i in range(0,10)]\n",
    "\n",
    "    for i in range(0,10):\n",
    "        valve_duty_cycle[i][1] = state_array[2:22][i]\n",
    "        valve_duty_cycle[i][2] = state_array[12:22][i]\n",
    "    smell_engine.automation_set_mfc_setpoints([state_array[1],state_array[0],42])\n",
    "    smell_engine.set_valve_duty_cycles(valve_duty_cycle)\n"
   ]
  },
  {
   "cell_type": "code",
   "execution_count": null,
   "metadata": {},
   "outputs": [],
   "source": [
    "set_machine([0, 0, 0, 0, 0, 0, 0, 0, 0, 0, 0, 0, 0, 0, 0, 0, 0, 0, 0, 0, 0, 0])"
   ]
  },
  {
   "cell_type": "code",
   "execution_count": null,
   "metadata": {},
   "outputs": [],
   "source": [
    "#define data Frame of machine states to iterate through.\n",
    "\n",
    "steady_state = [0, 0, 0, 0, 0, 0, 0, 0, 0, 0, 0, 0, 0, 0, 0, 0, 0, 0, 0, 0, 0, 0]\n",
    "\n",
    "\n",
    "states = [\n",
    "    steady_state,\n",
    "    steady_state,\n",
    "\n",
    "         ]"
   ]
  },
  {
   "cell_type": "code",
   "execution_count": null,
   "metadata": {},
   "outputs": [],
   "source": [
    "vvoA = []\n",
    "vfoA = []\n",
    "vvoB = []\n",
    "vfoB = []\n",
    "for v_flow in range(1,5):\n",
    "    for v_duty in range(1,11):\n",
    "        vvoA.append([v_flow/4, 0, v_duty/10, 0, 0, 0, 0, 0, 0, 0, 0, 0, 0, 0, 0, 0, 0, 0, 0, 0, 0, 0])\n",
    "vvoA.reverse()\n",
    "random.shuffle(vvoA)\n",
    "    \n",
    "for v_duty in range(1,5):\n",
    "    for v_flow in range(1,11):\n",
    "        vfoA.append([v_flow/10, 0, v_duty/4, 0, 0, 0, 0, 0, 0, 0, 0, 0, 0, 0, 0, 0, 0, 0, 0, 0, 0, 0])\n",
    "vfoA.reverse()\n",
    "random.shuffle(vfoA)\n",
    "        \n",
    "for v_flow in range(1,5):\n",
    "    for v_duty in range(1,11):\n",
    "        vvoB.append([0, v_flow/4, 0, 0, 0, 0, 0, 0, 0, 0, 0, 0, v_duty/10, 0, 0, 0, 0, 0, 0, 0, 0, 0])\n",
    "vvoB.reverse()\n",
    "random.shuffle(vvoB)\n",
    "    \n",
    "for v_duty in range(1,5):\n",
    "    for v_flow in range(1,11):\n",
    "        vfoB.append([0, v_flow/10,0, 0, 0, 0, 0, 0, 0, 0, 0, 0,  v_duty/4, 0, 0, 0, 0, 0, 0, 0, 0, 0])\n",
    "vfoB.reverse()\n",
    "random.shuffle(vfoB)"
   ]
  },
  {
   "cell_type": "code",
   "execution_count": null,
   "metadata": {},
   "outputs": [],
   "source": [
    "# all_states = vvoA + [steady_state]+ vfoA + [steady_state]+ vvoB + [steady_state]+  vfoB\n",
    "all_states = vvoB + [steady_state]+  vfoB\n",
    "states = states + all_states"
   ]
  },
  {
   "cell_type": "code",
   "execution_count": null,
   "metadata": {},
   "outputs": [],
   "source": [
    "# Time estimate\n",
    "((len(all_states)*3 * 30) / 60 )/60"
   ]
  },
  {
   "cell_type": "code",
   "execution_count": null,
   "metadata": {},
   "outputs": [],
   "source": [
    "df_states = pd.DataFrame(states, columns=[\"mfcA\",\"mfcB\",\"h1\",\"h2\",\"h3\",\"h4\",\"h5\",\"h6\",\"h7\",\"h8\",\"h9\",\"h10\",\"L1\",\"L2\",\"L3\",\"L4\",\"L5\",\"L6\",\"L7\",\"L8\",\"L9\",\"L10\"])"
   ]
  },
  {
   "cell_type": "code",
   "execution_count": null,
   "metadata": {},
   "outputs": [],
   "source": [
    "df_states"
   ]
  },
  {
   "cell_type": "code",
   "execution_count": null,
   "metadata": {},
   "outputs": [],
   "source": [
    "import threading\n",
    "import json\n",
    "count_global = 0\n",
    "baseline = 0 \n",
    "init = True \n",
    "WAVE_ACCURACY = 500\n",
    "\n",
    "print(\"starting loop\")\n",
    "\n",
    "def auto_collect():\n",
    "    #global variables and variable declarations \n",
    "    l_concs = len(states)\n",
    "    global df_states\n",
    "    global baseline\n",
    "    global init \n",
    "    global count_global\n",
    "    global WAVE_ACCURACY\n",
    "    \n",
    "    print(\"COUNT\" + str(count_global)+ \" \" + str(df_states.values[count_global%l_concs].tolist()))\n",
    "    print(\"CONC\" + str(df_states.values[count_global%l_concs].tolist()))\n",
    "    \n",
    "    #decide if to wait 5 minutes or 1 minute depending on if the steady state is resetting\n",
    "    threading.Timer(10, auto_collect).start()\n",
    "        \n",
    "    pid_average = sum(ui.timeSeries.data[0].y) /len(ui.timeSeries.data[0].y) #calculate the pid_average\n",
    "    \n",
    "    #establish condition to establish a new baseline value\n",
    "    if(count_global%l_concs == 1):\n",
    "        print(f\"NEW BASELINE {pid_average}\")\n",
    "        baseline = pid_average\n",
    "        pid_average_C = pid_average\n",
    "    else: \n",
    "        pid_average_C = pid_average - baseline \n",
    "        \n",
    "    #print(\"SAMPLED\")\n",
    "    #print(signal.resample(ui.timeSeries.data[0].y, WAVE_ACCURACY).tolist())\n",
    "    #if not steady stater record data\n",
    "    if(count_global%l_concs != 0):\n",
    "        auto_data[\"data\"].append({\n",
    "            \"state\":df_states.values[count_global%l_concs].tolist(),\n",
    "            \"pidC\":pid_average_C,\n",
    "            \"pid\":pid_average,\n",
    "            \"wave\":signal.resample(ui.timeSeries.data[0].y, WAVE_ACCURACY).tolist()\n",
    "        })\n",
    "        \n",
    "    #write data\n",
    "    with open(f\"auto_results_state.json\",\"w\") as outfile:\n",
    "            json.dump(auto_data,outfile)\n",
    "            \n",
    "    count_global = count_global + 1\n",
    "    set_machine(df_states.values[count_global%l_concs].tolist())\n",
    "    print(\"END\")\n",
    "        \n",
    "auto_collect()"
   ]
  },
  {
   "cell_type": "code",
   "execution_count": null,
   "metadata": {},
   "outputs": [],
   "source": [
    "import json\n",
    "with open(f\"auto_results_11-1-mfcB_trials_mfcC_0p5L.json\",\"w\") as outfile:\n",
    "        json.dump(auto_data,outfile)"
   ]
  },
  {
   "cell_type": "code",
   "execution_count": null,
   "metadata": {},
   "outputs": [],
   "source": [
    "from scipy import signal\n",
    "y = 1000* [1]"
   ]
  },
  {
   "cell_type": "code",
   "execution_count": null,
   "metadata": {},
   "outputs": [],
   "source": [
    "len(y)"
   ]
  },
  {
   "cell_type": "code",
   "execution_count": null,
   "metadata": {},
   "outputs": [],
   "source": [
    "downsampled =  signal.resample(y, 10).tolist()"
   ]
  },
  {
   "cell_type": "code",
   "execution_count": null,
   "metadata": {},
   "outputs": [],
   "source": [
    "downsampled"
   ]
  },
  {
   "cell_type": "code",
   "execution_count": null,
   "metadata": {},
   "outputs": [],
   "source": [
    "plt.plot(ui.timeSeriesData)"
   ]
  },
  {
   "cell_type": "code",
   "execution_count": null,
   "metadata": {},
   "outputs": [],
   "source": [
    "import matplotlib.pyplot as plt\n",
    "plt.plot(signal.resample(ui.timeSeriesData,500))"
   ]
  },
  {
   "cell_type": "code",
   "execution_count": null,
   "metadata": {},
   "outputs": [],
   "source": []
  }
 ],
 "metadata": {
  "kernelspec": {
   "display_name": "Python 3",
   "language": "python",
   "name": "python3"
  },
  "language_info": {
   "codemirror_mode": {
    "name": "ipython",
    "version": 3
   },
   "file_extension": ".py",
   "mimetype": "text/x-python",
   "name": "python",
   "nbconvert_exporter": "python",
   "pygments_lexer": "ipython3",
   "version": "3.8.5"
  }
 },
 "nbformat": 4,
 "nbformat_minor": 4
}
